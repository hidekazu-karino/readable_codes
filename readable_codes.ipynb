{
 "cells": [
  {
   "cell_type": "markdown",
   "metadata": {},
   "source": [
    "## 1章　理解しやすいコード"
   ]
  },
  {
   "cell_type": "markdown",
   "metadata": {},
   "source": [
    "読みやすさの基本定理\n",
    "\n",
    "\"コードは他の人が最短時間で理解できるように書かなければいけない．\"\n",
    "\n",
    "他の人とは半年後の自分かもしれない．コードを短くするのも大事だが，「理解するまでにかかる時間」を短くするのが大切．"
   ]
  },
  {
   "cell_type": "markdown",
   "metadata": {},
   "source": [
    "# 第Ⅰ部　表面上の改善\n",
    "## 第2章　名前に情報を詰め込む\n",
    "- 明確な単語を選ぶ\n",
    "- 汎用的な名前を避ける\n",
    "- 具体的な名前を使う\n",
    "- 接尾辞や接頭辞を使って情報を追加する\n",
    "- 名前の長さを決める\n",
    "- 名前のフォーマットで情報を伝える\n"
   ]
  },
  {
   "cell_type": "markdown",
   "metadata": {},
   "source": [
    "### 明確な単語を選ぶ\n"
   ]
  },
  {
   "cell_type": "code",
   "execution_count": 1,
   "metadata": {},
   "outputs": [],
   "source": [
    "def GetPage(url):\n",
    "    '''\n",
    "    '''"
   ]
  },
  {
   "cell_type": "markdown",
   "metadata": {},
   "source": [
    "getという単語からは何も伝わってこない．どこからとってくるのか(ローカルキャッシュ/データベース/インターネット/etc)？インターネットからとってくるならFetchPage()やDownloadPage()の方が明確．\n",
    "\n",
    "他にもsizeやstopという名前も不明瞭．sizeならBinaryTreeのツリーの高さ/ノードの数/ツリーのメモリ消費量など明確化すべき．\n",
    "\n",
    "類義語辞典を使って調べてみること．"
   ]
  },
  {
   "cell_type": "markdown",
   "metadata": {},
   "source": [
    "### 汎用的な名前を避ける"
   ]
  },
  {
   "cell_type": "markdown",
   "metadata": {},
   "source": [
    "hoge,foo,retval,tmpなどという名前には情報がない．変数の値を表すような名前を使うこと．\n",
    "\n",
    "i,j,kなどはイテレータを表すので問題ない．しかしfor文を何重にも回すなら以下のように説明的な名前にするといい．"
   ]
  },
  {
   "cell_type": "code",
   "execution_count": null,
   "metadata": {},
   "outputs": [],
   "source": [
    "for i in range(len(clubs)):\n",
    "    for j in range(len(clubs[i][\"members\"])):\n",
    "        for k in range(len(users)):\n",
    "            if clubs[i][\"members\"][k]==users[j]"
   ]
  },
  {
   "cell_type": "markdown",
   "metadata": {},
   "source": [
    "membersとusersのインデックスが逆になっているが気づきにくい．変数をclub_i ,member_i, user_iにするもしくはもっと簡潔なci,mi,uiにするとバグが目立ちやすくなる．"
   ]
  },
  {
   "cell_type": "markdown",
   "metadata": {},
   "source": [
    "### 名前に情報を追加する"
   ]
  },
  {
   "cell_type": "markdown",
   "metadata": {},
   "source": [
    "delay_secs,size_mb,limit_max_kbps,degrees_cwのように単位をつけることで情報が付け加わる．"
   ]
  },
  {
   "cell_type": "markdown",
   "metadata": {},
   "source": [
    "### 名前の長さを決める"
   ]
  },
  {
   "cell_type": "markdown",
   "metadata": {},
   "source": [
    "変数の型や初期値，破棄方法が近くに見えるようなスコープが小さい場所での変数の名前は短くていい．しかしそうでないなら十分に情報を詰め込む必要がある．\n",
    "\n",
    "長い名前は入力しにくく感じるかもしれないが補完機能があれば大丈夫．"
   ]
  },
  {
   "cell_type": "markdown",
   "metadata": {},
   "source": [
    "## 第3章　誤解されない名前をつける"
   ]
  },
  {
   "cell_type": "markdown",
   "metadata": {},
   "source": [
    "例えばfilter(条件)だと条件に合うものを抽出するのかはじくのかわからない．選択するならselect(),除外するならexclude()のほうがよい．\n",
    "\n",
    "lengthもバイト数，文字数，単語数などがあるのでmax_charsとｓｈちあほうがよい．\n",
    "\n",
    "範囲を指定するときはfirstとlastを使うとよい(未満と以下がまぎらわしくない)．\n",
    "\n",
    "ブール値の変数などにはtrueとfalseの意味を明確にする必要がある．"
   ]
  },
  {
   "cell_type": "markdown",
   "metadata": {},
   "source": [
    "## 第4章　美しさ"
   ]
  },
  {
   "cell_type": "markdown",
   "metadata": {},
   "source": [
    "一貫性のある改行をする，=などで縦の位置をそろえる，重要度順やアルファベット順に並べる，宣言をブロックにまとめるなど一貫性と意味のあるやり方でコードを成形する．"
   ]
  },
  {
   "cell_type": "markdown",
   "metadata": {},
   "source": [
    "## 第5,6章　コメント"
   ]
  },
  {
   "cell_type": "markdown",
   "metadata": {},
   "source": [
    "コメントを読むとその分コードを読む時間が無くなるので，コメントにはそれだけの価値を持たせるべきである．コードからすぐにわかることをコメントに書かない．\n",
    "\n",
    "関数宣言とほぼ同じコメントよりも，関数の説明や挙動を書いたほうがいい．実行時間の比較などの「監督のコメンタリー」を入れる．定数にもコメントの理由をつける(なぜこの値で十分かや合理的な限界値など)．\n",
    "\n",
    "\n"
   ]
  },
  {
   "cell_type": "markdown",
   "metadata": {},
   "source": [
    "あいまいな代名詞を避けること．\n",
    "\n",
    "＃データにキャッシュを入れる．そのサイズをチェックする．\n",
    "\n",
    "というコメントだとそのはデータを指すのかもしれないしキャッシュを指すかもしれないのでデータのサイズとする．\n",
    "\n",
    "実例を書く．"
   ]
  },
  {
   "cell_type": "markdown",
   "metadata": {},
   "source": [
    "# 第Ⅱ部　ループとロジックの制御\n",
    "## 第7章　制御フローを読みやすく\n",
    "比較を書くときは変化する値を左に，より安定した値を右に配置する．"
   ]
  },
  {
   "cell_type": "markdown",
   "metadata": {},
   "source": [
    "### if/elseブロックの並び順\n",
    "- 条件は否定形よりも肯定形をつかう．if(!debug)ではなくif(debug)のように．\n",
    "- 単純な条件を先に書く．\n",
    "- 関心をひく条件や目立つ条件を先に書く．\n",
    "\n",
    "この優劣は衝突することもあるので自分で判断すること．"
   ]
  },
  {
   "cell_type": "markdown",
   "metadata": {},
   "source": [
    "### 関数から早く返す\n",
    "クリーンアップコードを使う．pythonにおけるwithなど．"
   ]
  },
  {
   "cell_type": "markdown",
   "metadata": {},
   "source": [
    "### ネストを浅くする\n"
   ]
  },
  {
   "cell_type": "code",
   "execution_count": null,
   "metadata": {},
   "outputs": [],
   "source": [
    "if (user_result == SUCCESS){\n",
    "    if (permission_result != SUCCESS){\n",
    "        reply.WriteErrors(\"error reading permissions\");\n",
    "        reply.Done();\n",
    "        return;\n",
    "    }\n",
    "    reply.WriteErrors(\"\");\n",
    "}   else{\n",
    "    reply.WriteErrors(user_result);\n",
    "}\n",
    "reply.Done()"
   ]
  },
  {
   "cell_type": "markdown",
   "metadata": {},
   "source": [
    "上のコードだとuser_resultとpermission_resultの値を常に覚えておかないといけない．ネストを浅くするには失敗ケースをできるだけ早めに関数から返せばいい．"
   ]
  },
  {
   "cell_type": "code",
   "execution_count": null,
   "metadata": {},
   "outputs": [],
   "source": [
    "if (user_result != SUCCESS){\n",
    "    reply.WriteErrors(user_result);\n",
    "    reply.Done();\n",
    "    return;\n",
    "}\n",
    "\n",
    "if (permission_result != SUCCESS){\n",
    "    reply.WriteErrors(permission_result);\n",
    "    reply.Done();\n",
    "    return;\n",
    "}\n",
    "\n",
    "reply.WriteErrors(\"\");\n",
    "reply.Done()"
   ]
  },
  {
   "cell_type": "markdown",
   "metadata": {},
   "source": [
    "## 第8,9章　変数\n",
    "### 説明変数と要約変数\n",
    "説明変数や要約変数を導入する．\n",
    "- 巨大な式を分割できる\n",
    "- 簡潔な名前で式を説明することでコードを文書化できる\n",
    "- コードの主要な概念を読み手が認識しやすくなる"
   ]
  },
  {
   "cell_type": "code",
   "execution_count": null,
   "metadata": {},
   "outputs": [],
   "source": [
    "if line.split(':')[0].strip() == \"root\";"
   ]
  },
  {
   "cell_type": "markdown",
   "metadata": {},
   "source": [
    "説明変数を使えば以下のようになる．"
   ]
  },
  {
   "cell_type": "code",
   "execution_count": null,
   "metadata": {},
   "outputs": [],
   "source": [
    "username = line.split(':')[0].strip()\n",
    "if username == 'root'"
   ]
  },
  {
   "cell_type": "code",
   "execution_count": null,
   "metadata": {},
   "outputs": [],
   "source": [
    "if (request.user.id == document.owner_id){\n",
    "    //ユーザーはこの文書を編集できる\n",
    "}\n",
    "\n",
    "if (request.user.id != document.owner_id){\n",
    "    //文書は読み取り専用\n",
    "}"
   ]
  },
  {
   "cell_type": "markdown",
   "metadata": {},
   "source": [
    "このコードが言いたいのはユーザーは文書を所持しているかどうかなので明確に表現できる．"
   ]
  },
  {
   "cell_type": "code",
   "execution_count": null,
   "metadata": {},
   "outputs": [],
   "source": [
    "final boolean user_own_document = (request.user.id == document.owner_id)\n",
    "\n",
    "if (user_own_document){\n",
    "    //ユーザーは文書を編集できる\n",
    "}\n",
    "\n",
    "if (!user_own_document){\n",
    "    //文書は読み取り専用\n",
    "}"
   ]
  },
  {
   "cell_type": "markdown",
   "metadata": {},
   "source": [
    "### 変数に気を付けること\n",
    "変数のスコープはできるだけ狭く，変数を操作する場所もできるだけ少なく．"
   ]
  },
  {
   "cell_type": "markdown",
   "metadata": {},
   "source": [
    "# 第Ⅲ部　コードの再構成\n",
    "コードを再構成する3つの方法がある．\n",
    "- プログラムの主目的と関係のない無関係の下位問題を抽出する\n",
    "- コードを再構成して一度に一つのことをやるようにする\n",
    "- 最初にコードを言葉で説明し，その説明を基にしてきれいな解決策を作る"
   ]
  }
 ],
 "metadata": {
  "kernelspec": {
   "display_name": "Python 3",
   "language": "python",
   "name": "python3"
  },
  "language_info": {
   "codemirror_mode": {
    "name": "ipython",
    "version": 3
   },
   "file_extension": ".py",
   "mimetype": "text/x-python",
   "name": "python",
   "nbconvert_exporter": "python",
   "pygments_lexer": "ipython3",
   "version": "3.6.5"
  }
 },
 "nbformat": 4,
 "nbformat_minor": 2
}
